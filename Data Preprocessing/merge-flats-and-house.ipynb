{
 "cells": [
  {
   "cell_type": "code",
   "id": "2b11b6dd",
   "metadata": {
    "ExecuteTime": {
     "end_time": "2025-07-09T02:17:28.813273Z",
     "start_time": "2025-07-09T02:17:27.409825Z"
    }
   },
   "source": [
    "import numpy as np\n",
    "import pandas as pd"
   ],
   "outputs": [],
   "execution_count": 1
  },
  {
   "cell_type": "code",
   "id": "24b69747",
   "metadata": {
    "ExecuteTime": {
     "end_time": "2025-07-09T02:18:10.667603Z",
     "start_time": "2025-07-09T02:18:10.552147Z"
    }
   },
   "source": [
    "flats = pd.read_csv(r'C:\\Real Estate Capstone Project\\Datasets\\L1\\flats_cleaned.csv')\n",
    "houses = pd.read_csv(r'C:\\Real Estate Capstone Project\\Datasets\\L1\\house_cleaned.csv')"
   ],
   "outputs": [],
   "execution_count": 3
  },
  {
   "cell_type": "code",
   "id": "f14b978e",
   "metadata": {
    "ExecuteTime": {
     "end_time": "2025-07-09T02:18:20.675628Z",
     "start_time": "2025-07-09T02:18:20.662967Z"
    }
   },
   "source": [
    "df = pd.concat([flats,houses],ignore_index=True)"
   ],
   "outputs": [],
   "execution_count": 4
  },
  {
   "cell_type": "code",
   "id": "6ee61d8f",
   "metadata": {
    "ExecuteTime": {
     "end_time": "2025-07-09T02:18:21.506837Z",
     "start_time": "2025-07-09T02:18:21.490844Z"
    }
   },
   "source": [
    "df = df.sample(df.shape[0],ignore_index=True)"
   ],
   "outputs": [],
   "execution_count": 5
  },
  {
   "cell_type": "code",
   "id": "4b047d58",
   "metadata": {
    "ExecuteTime": {
     "end_time": "2025-07-09T02:18:22.358121Z",
     "start_time": "2025-07-09T02:18:22.320689Z"
    }
   },
   "source": [
    "df.head()"
   ],
   "outputs": [
    {
     "data": {
      "text/plain": [
       "                                   property_name property_type  \\\n",
       "0                2 BHK Flat in Sector 90 Gurgaon          flat   \n",
       "1  1 Bedroom House for sale in Sector 69 Gurgaon         house   \n",
       "2               2 BHK Flat in Sector 108 Gurgaon          flat   \n",
       "3                2 BHK Flat in Sector 61 Gurgaon          flat   \n",
       "4                2 BHK Flat in Sector 84 Gurgaon          flat   \n",
       "\n",
       "                  society  price  price_per_sqft    area  \\\n",
       "0    shree vardhman flora   0.70          5177.0  1352.0   \n",
       "1             independent   0.80         10484.0   763.0   \n",
       "2  experion the heartsong   0.98         13343.0   734.0   \n",
       "3            pioneer park   1.60         11594.0  1380.0   \n",
       "4          pivotal devaan   0.41          7032.0   583.0   \n",
       "\n",
       "                                        areaWithType  bedRoom  bathroom  \\\n",
       "0                    Carpet area: 1352 (125.6 sq.m.)        2         3   \n",
       "1                   Built Up area: 763 (70.89 sq.m.)        1         1   \n",
       "2  Super Built up area 1283(119.19 sq.m.)Built Up...        2         3   \n",
       "3                   Carpet area: 1380 (128.21 sq.m.)        2         2   \n",
       "4  Super Built up area 583(54.16 sq.m.)Built Up a...        2         2   \n",
       "\n",
       "  balcony additionalRoom                                            address  \\\n",
       "0       2     study room                Sector 90 Gurgaon, Gurgaon, Haryana   \n",
       "1       0  not available  Sector 69, Gurgaon, Sector 69 Gurgaon, Gurgaon...   \n",
       "2       3     study room               Sector 108 Gurgaon, Gurgaon, Haryana   \n",
       "3       2   servant room                Sector 61 Gurgaon, Gurgaon, Haryana   \n",
       "4       2  not available                Sector 84 Gurgaon, Gurgaon, Haryana   \n",
       "\n",
       "   floorNum facing    agePossession  \\\n",
       "0       7.0  North  1 to 5 Year Old   \n",
       "1       1.0    NaN        undefined   \n",
       "2       4.0   East  1 to 5 Year Old   \n",
       "3      21.0    NaN  1 to 5 Year Old   \n",
       "4      10.0   East  0 to 1 Year Old   \n",
       "\n",
       "                                     nearbyLocations  \\\n",
       "0  ['IRIS Broadway Mall', 'Dwarka Expressway', 'S...   \n",
       "1  ['Sri Radhe Krishna Temple', 'Icici bank ATM',...   \n",
       "2  ['Galleria 108 Mall', 'Dwarka Expressway', 'Ce...   \n",
       "3  ['Sector 55-56 Rapid Metro', 'Hong Kong Bazaar...   \n",
       "4  ['Dwarka Expressway', 'RPS International Schoo...   \n",
       "\n",
       "                                         description  \\\n",
       "0  This 2 bhk flat is located in shree vardhman f...   \n",
       "1  Fully furnished studio apartment with all amen...   \n",
       "2  Corner and airy flat with ample of sunlight th...   \n",
       "3  Check out this 2 bhk flat for sale in pioneer ...   \n",
       "4  It's a east facing flat. Huge sunlight one can...   \n",
       "\n",
       "                                      furnishDetails  \\\n",
       "0  ['2 Wardrobe', '6 Fan', '1 Exhaust Fan', '2 Ge...   \n",
       "1  ['1 Wardrobe', '1 Fan', '1 Light', 'No AC', 'N...   \n",
       "2  ['1 Bed', '1 Sofa', '8 Light', '3 AC', '1 Curt...   \n",
       "3  ['2 Wardrobe', 'No AC', 'No Bed', 'No Chimney'...   \n",
       "4  ['3 Fan', '1 Exhaust Fan', '1 Geyser', '8 Ligh...   \n",
       "\n",
       "                                            features  \\\n",
       "0  ['Feng Shui / Vaastu Compliant', 'Security / F...   \n",
       "1                                                NaN   \n",
       "2  ['Security / Fire Alarm', 'Feng Shui / Vaastu ...   \n",
       "3  ['Security / Fire Alarm', 'Feng Shui / Vaastu ...   \n",
       "4  ['Security / Fire Alarm', 'Lift(s)', 'Maintena...   \n",
       "\n",
       "                                              rating  \n",
       "0  ['Green Area5 out of 5', 'Construction5 out of...  \n",
       "1  ['Environment4 out of 5', 'Lifestyle4 out of 5...  \n",
       "2  ['Green Area5 out of 5', 'Construction4 out of...  \n",
       "3  ['Green Area5 out of 5', 'Construction3 out of...  \n",
       "4  ['Environment4 out of 5', 'Safety4 out of 5', ...  "
      ],
      "text/html": [
       "<div>\n",
       "<style scoped>\n",
       "    .dataframe tbody tr th:only-of-type {\n",
       "        vertical-align: middle;\n",
       "    }\n",
       "\n",
       "    .dataframe tbody tr th {\n",
       "        vertical-align: top;\n",
       "    }\n",
       "\n",
       "    .dataframe thead th {\n",
       "        text-align: right;\n",
       "    }\n",
       "</style>\n",
       "<table border=\"1\" class=\"dataframe\">\n",
       "  <thead>\n",
       "    <tr style=\"text-align: right;\">\n",
       "      <th></th>\n",
       "      <th>property_name</th>\n",
       "      <th>property_type</th>\n",
       "      <th>society</th>\n",
       "      <th>price</th>\n",
       "      <th>price_per_sqft</th>\n",
       "      <th>area</th>\n",
       "      <th>areaWithType</th>\n",
       "      <th>bedRoom</th>\n",
       "      <th>bathroom</th>\n",
       "      <th>balcony</th>\n",
       "      <th>additionalRoom</th>\n",
       "      <th>address</th>\n",
       "      <th>floorNum</th>\n",
       "      <th>facing</th>\n",
       "      <th>agePossession</th>\n",
       "      <th>nearbyLocations</th>\n",
       "      <th>description</th>\n",
       "      <th>furnishDetails</th>\n",
       "      <th>features</th>\n",
       "      <th>rating</th>\n",
       "    </tr>\n",
       "  </thead>\n",
       "  <tbody>\n",
       "    <tr>\n",
       "      <th>0</th>\n",
       "      <td>2 BHK Flat in Sector 90 Gurgaon</td>\n",
       "      <td>flat</td>\n",
       "      <td>shree vardhman flora</td>\n",
       "      <td>0.70</td>\n",
       "      <td>5177.0</td>\n",
       "      <td>1352.0</td>\n",
       "      <td>Carpet area: 1352 (125.6 sq.m.)</td>\n",
       "      <td>2</td>\n",
       "      <td>3</td>\n",
       "      <td>2</td>\n",
       "      <td>study room</td>\n",
       "      <td>Sector 90 Gurgaon, Gurgaon, Haryana</td>\n",
       "      <td>7.0</td>\n",
       "      <td>North</td>\n",
       "      <td>1 to 5 Year Old</td>\n",
       "      <td>['IRIS Broadway Mall', 'Dwarka Expressway', 'S...</td>\n",
       "      <td>This 2 bhk flat is located in shree vardhman f...</td>\n",
       "      <td>['2 Wardrobe', '6 Fan', '1 Exhaust Fan', '2 Ge...</td>\n",
       "      <td>['Feng Shui / Vaastu Compliant', 'Security / F...</td>\n",
       "      <td>['Green Area5 out of 5', 'Construction5 out of...</td>\n",
       "    </tr>\n",
       "    <tr>\n",
       "      <th>1</th>\n",
       "      <td>1 Bedroom House for sale in Sector 69 Gurgaon</td>\n",
       "      <td>house</td>\n",
       "      <td>independent</td>\n",
       "      <td>0.80</td>\n",
       "      <td>10484.0</td>\n",
       "      <td>763.0</td>\n",
       "      <td>Built Up area: 763 (70.89 sq.m.)</td>\n",
       "      <td>1</td>\n",
       "      <td>1</td>\n",
       "      <td>0</td>\n",
       "      <td>not available</td>\n",
       "      <td>Sector 69, Gurgaon, Sector 69 Gurgaon, Gurgaon...</td>\n",
       "      <td>1.0</td>\n",
       "      <td>NaN</td>\n",
       "      <td>undefined</td>\n",
       "      <td>['Sri Radhe Krishna Temple', 'Icici bank ATM',...</td>\n",
       "      <td>Fully furnished studio apartment with all amen...</td>\n",
       "      <td>['1 Wardrobe', '1 Fan', '1 Light', 'No AC', 'N...</td>\n",
       "      <td>NaN</td>\n",
       "      <td>['Environment4 out of 5', 'Lifestyle4 out of 5...</td>\n",
       "    </tr>\n",
       "    <tr>\n",
       "      <th>2</th>\n",
       "      <td>2 BHK Flat in Sector 108 Gurgaon</td>\n",
       "      <td>flat</td>\n",
       "      <td>experion the heartsong</td>\n",
       "      <td>0.98</td>\n",
       "      <td>13343.0</td>\n",
       "      <td>734.0</td>\n",
       "      <td>Super Built up area 1283(119.19 sq.m.)Built Up...</td>\n",
       "      <td>2</td>\n",
       "      <td>3</td>\n",
       "      <td>3</td>\n",
       "      <td>study room</td>\n",
       "      <td>Sector 108 Gurgaon, Gurgaon, Haryana</td>\n",
       "      <td>4.0</td>\n",
       "      <td>East</td>\n",
       "      <td>1 to 5 Year Old</td>\n",
       "      <td>['Galleria 108 Mall', 'Dwarka Expressway', 'Ce...</td>\n",
       "      <td>Corner and airy flat with ample of sunlight th...</td>\n",
       "      <td>['1 Bed', '1 Sofa', '8 Light', '3 AC', '1 Curt...</td>\n",
       "      <td>['Security / Fire Alarm', 'Feng Shui / Vaastu ...</td>\n",
       "      <td>['Green Area5 out of 5', 'Construction4 out of...</td>\n",
       "    </tr>\n",
       "    <tr>\n",
       "      <th>3</th>\n",
       "      <td>2 BHK Flat in Sector 61 Gurgaon</td>\n",
       "      <td>flat</td>\n",
       "      <td>pioneer park</td>\n",
       "      <td>1.60</td>\n",
       "      <td>11594.0</td>\n",
       "      <td>1380.0</td>\n",
       "      <td>Carpet area: 1380 (128.21 sq.m.)</td>\n",
       "      <td>2</td>\n",
       "      <td>2</td>\n",
       "      <td>2</td>\n",
       "      <td>servant room</td>\n",
       "      <td>Sector 61 Gurgaon, Gurgaon, Haryana</td>\n",
       "      <td>21.0</td>\n",
       "      <td>NaN</td>\n",
       "      <td>1 to 5 Year Old</td>\n",
       "      <td>['Sector 55-56 Rapid Metro', 'Hong Kong Bazaar...</td>\n",
       "      <td>Check out this 2 bhk flat for sale in pioneer ...</td>\n",
       "      <td>['2 Wardrobe', 'No AC', 'No Bed', 'No Chimney'...</td>\n",
       "      <td>['Security / Fire Alarm', 'Feng Shui / Vaastu ...</td>\n",
       "      <td>['Green Area5 out of 5', 'Construction3 out of...</td>\n",
       "    </tr>\n",
       "    <tr>\n",
       "      <th>4</th>\n",
       "      <td>2 BHK Flat in Sector 84 Gurgaon</td>\n",
       "      <td>flat</td>\n",
       "      <td>pivotal devaan</td>\n",
       "      <td>0.41</td>\n",
       "      <td>7032.0</td>\n",
       "      <td>583.0</td>\n",
       "      <td>Super Built up area 583(54.16 sq.m.)Built Up a...</td>\n",
       "      <td>2</td>\n",
       "      <td>2</td>\n",
       "      <td>2</td>\n",
       "      <td>not available</td>\n",
       "      <td>Sector 84 Gurgaon, Gurgaon, Haryana</td>\n",
       "      <td>10.0</td>\n",
       "      <td>East</td>\n",
       "      <td>0 to 1 Year Old</td>\n",
       "      <td>['Dwarka Expressway', 'RPS International Schoo...</td>\n",
       "      <td>It's a east facing flat. Huge sunlight one can...</td>\n",
       "      <td>['3 Fan', '1 Exhaust Fan', '1 Geyser', '8 Ligh...</td>\n",
       "      <td>['Security / Fire Alarm', 'Lift(s)', 'Maintena...</td>\n",
       "      <td>['Environment4 out of 5', 'Safety4 out of 5', ...</td>\n",
       "    </tr>\n",
       "  </tbody>\n",
       "</table>\n",
       "</div>"
      ]
     },
     "execution_count": 6,
     "metadata": {},
     "output_type": "execute_result"
    }
   ],
   "execution_count": 6
  },
  {
   "metadata": {
    "ExecuteTime": {
     "end_time": "2025-07-09T02:28:02.407225Z",
     "start_time": "2025-07-09T02:28:02.399810Z"
    }
   },
   "cell_type": "code",
   "source": "df.shape",
   "id": "b72ac6c2504ef4eb",
   "outputs": [
    {
     "data": {
      "text/plain": [
       "(3961, 20)"
      ]
     },
     "execution_count": 8,
     "metadata": {},
     "output_type": "execute_result"
    }
   ],
   "execution_count": 8
  },
  {
   "cell_type": "code",
   "id": "d810924c",
   "metadata": {
    "ExecuteTime": {
     "end_time": "2025-07-09T02:18:23.930770Z",
     "start_time": "2025-07-09T02:18:23.718767Z"
    }
   },
   "source": [
    "df.to_csv('gurgaon_properties.csv',index=False)"
   ],
   "outputs": [],
   "execution_count": 7
  },
  {
   "cell_type": "code",
   "execution_count": null,
   "id": "56be443e",
   "metadata": {},
   "outputs": [],
   "source": []
  }
 ],
 "metadata": {
  "kernelspec": {
   "display_name": "Python 3 (ipykernel)",
   "language": "python",
   "name": "python3"
  },
  "language_info": {
   "codemirror_mode": {
    "name": "ipython",
    "version": 3
   },
   "file_extension": ".py",
   "mimetype": "text/x-python",
   "name": "python",
   "nbconvert_exporter": "python",
   "pygments_lexer": "ipython3",
   "version": "3.9.7"
  }
 },
 "nbformat": 4,
 "nbformat_minor": 5
}
